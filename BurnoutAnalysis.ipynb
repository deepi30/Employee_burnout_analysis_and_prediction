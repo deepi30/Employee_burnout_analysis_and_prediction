{
 "cells": [
  {
   "cell_type": "code",
   "execution_count": 32,
   "id": "1839044c",
   "metadata": {},
   "outputs": [],
   "source": [
    "import numpy as np \n",
    "import pandas as pd\n",
    "import matplotlib.pyplot as plt\n",
    "import seaborn as sns\n",
    "%matplotlib inline\n",
    "from sklearn.linear_model import LinearRegression\n",
    "from sklearn.preprocessing import PolynomialFeatures\n",
    "\n",
    "import os\n",
    "for dirname, _, filenames in os.walk('/kaggle/input'):\n",
    "    for filename in filenames:\n",
    "        print(os.path.join(dirname, filename))"
   ]
  },
  {
   "cell_type": "code",
   "execution_count": 33,
   "id": "1fb91e77",
   "metadata": {},
   "outputs": [],
   "source": [
    "df = pd.read_csv('Train.csv', parse_dates=['Date of Joining'])\n",
    "test_df = pd.read_csv('Test.csv', parse_dates=['Date of Joining'])\n",
    "sample_submission = pd.read_csv('sample_submission.csv')\n"
   ]
  },
  {
   "cell_type": "code",
   "execution_count": 34,
   "id": "a7f38d0e",
   "metadata": {},
   "outputs": [
    {
     "data": {
      "text/html": [
       "<div>\n",
       "<style scoped>\n",
       "    .dataframe tbody tr th:only-of-type {\n",
       "        vertical-align: middle;\n",
       "    }\n",
       "\n",
       "    .dataframe tbody tr th {\n",
       "        vertical-align: top;\n",
       "    }\n",
       "\n",
       "    .dataframe thead th {\n",
       "        text-align: right;\n",
       "    }\n",
       "</style>\n",
       "<table border=\"1\" class=\"dataframe\">\n",
       "  <thead>\n",
       "    <tr style=\"text-align: right;\">\n",
       "      <th></th>\n",
       "      <th>Employee ID</th>\n",
       "      <th>Date of Joining</th>\n",
       "      <th>Gender</th>\n",
       "      <th>Company Type</th>\n",
       "      <th>WFH Setup Available</th>\n",
       "      <th>Designation</th>\n",
       "      <th>Resource Allocation</th>\n",
       "      <th>Mental Fatigue Score</th>\n",
       "      <th>Burn Rate</th>\n",
       "    </tr>\n",
       "  </thead>\n",
       "  <tbody>\n",
       "    <tr>\n",
       "      <th>0</th>\n",
       "      <td>fffe32003000360033003200</td>\n",
       "      <td>2008-09-30</td>\n",
       "      <td>Female</td>\n",
       "      <td>Service</td>\n",
       "      <td>No</td>\n",
       "      <td>2.0</td>\n",
       "      <td>3.0</td>\n",
       "      <td>3.8</td>\n",
       "      <td>0.16</td>\n",
       "    </tr>\n",
       "    <tr>\n",
       "      <th>1</th>\n",
       "      <td>fffe3700360033003500</td>\n",
       "      <td>2008-11-30</td>\n",
       "      <td>Male</td>\n",
       "      <td>Service</td>\n",
       "      <td>Yes</td>\n",
       "      <td>1.0</td>\n",
       "      <td>2.0</td>\n",
       "      <td>5.0</td>\n",
       "      <td>0.36</td>\n",
       "    </tr>\n",
       "    <tr>\n",
       "      <th>2</th>\n",
       "      <td>fffe31003300320037003900</td>\n",
       "      <td>2008-03-10</td>\n",
       "      <td>Female</td>\n",
       "      <td>Product</td>\n",
       "      <td>Yes</td>\n",
       "      <td>2.0</td>\n",
       "      <td>NaN</td>\n",
       "      <td>5.8</td>\n",
       "      <td>0.49</td>\n",
       "    </tr>\n",
       "    <tr>\n",
       "      <th>3</th>\n",
       "      <td>fffe32003400380032003900</td>\n",
       "      <td>2008-11-03</td>\n",
       "      <td>Male</td>\n",
       "      <td>Service</td>\n",
       "      <td>Yes</td>\n",
       "      <td>1.0</td>\n",
       "      <td>1.0</td>\n",
       "      <td>2.6</td>\n",
       "      <td>0.20</td>\n",
       "    </tr>\n",
       "    <tr>\n",
       "      <th>4</th>\n",
       "      <td>fffe31003900340031003600</td>\n",
       "      <td>2008-07-24</td>\n",
       "      <td>Female</td>\n",
       "      <td>Service</td>\n",
       "      <td>No</td>\n",
       "      <td>3.0</td>\n",
       "      <td>7.0</td>\n",
       "      <td>6.9</td>\n",
       "      <td>0.52</td>\n",
       "    </tr>\n",
       "  </tbody>\n",
       "</table>\n",
       "</div>"
      ],
      "text/plain": [
       "                Employee ID Date of Joining  Gender Company Type  \\\n",
       "0  fffe32003000360033003200      2008-09-30  Female      Service   \n",
       "1      fffe3700360033003500      2008-11-30    Male      Service   \n",
       "2  fffe31003300320037003900      2008-03-10  Female      Product   \n",
       "3  fffe32003400380032003900      2008-11-03    Male      Service   \n",
       "4  fffe31003900340031003600      2008-07-24  Female      Service   \n",
       "\n",
       "  WFH Setup Available  Designation  Resource Allocation  Mental Fatigue Score  \\\n",
       "0                  No          2.0                  3.0                   3.8   \n",
       "1                 Yes          1.0                  2.0                   5.0   \n",
       "2                 Yes          2.0                  NaN                   5.8   \n",
       "3                 Yes          1.0                  1.0                   2.6   \n",
       "4                  No          3.0                  7.0                   6.9   \n",
       "\n",
       "   Burn Rate  \n",
       "0       0.16  \n",
       "1       0.36  \n",
       "2       0.49  \n",
       "3       0.20  \n",
       "4       0.52  "
      ]
     },
     "execution_count": 34,
     "metadata": {},
     "output_type": "execute_result"
    }
   ],
   "source": [
    "df.head()"
   ]
  },
  {
   "cell_type": "code",
   "execution_count": 35,
   "id": "1f178993",
   "metadata": {},
   "outputs": [
    {
     "data": {
      "text/html": [
       "<div>\n",
       "<style scoped>\n",
       "    .dataframe tbody tr th:only-of-type {\n",
       "        vertical-align: middle;\n",
       "    }\n",
       "\n",
       "    .dataframe tbody tr th {\n",
       "        vertical-align: top;\n",
       "    }\n",
       "\n",
       "    .dataframe thead th {\n",
       "        text-align: right;\n",
       "    }\n",
       "</style>\n",
       "<table border=\"1\" class=\"dataframe\">\n",
       "  <thead>\n",
       "    <tr style=\"text-align: right;\">\n",
       "      <th></th>\n",
       "      <th>Employee ID</th>\n",
       "      <th>Date of Joining</th>\n",
       "      <th>Gender</th>\n",
       "      <th>Company Type</th>\n",
       "      <th>WFH Setup Available</th>\n",
       "      <th>Designation</th>\n",
       "      <th>Resource Allocation</th>\n",
       "      <th>Mental Fatigue Score</th>\n",
       "    </tr>\n",
       "  </thead>\n",
       "  <tbody>\n",
       "    <tr>\n",
       "      <th>0</th>\n",
       "      <td>fffe31003300390039003000</td>\n",
       "      <td>2008-12-10</td>\n",
       "      <td>Female</td>\n",
       "      <td>Service</td>\n",
       "      <td>No</td>\n",
       "      <td>2.0</td>\n",
       "      <td>5.0</td>\n",
       "      <td>7.7</td>\n",
       "    </tr>\n",
       "    <tr>\n",
       "      <th>1</th>\n",
       "      <td>fffe31003300310037003800</td>\n",
       "      <td>2008-08-14</td>\n",
       "      <td>Female</td>\n",
       "      <td>Product</td>\n",
       "      <td>Yes</td>\n",
       "      <td>1.0</td>\n",
       "      <td>2.0</td>\n",
       "      <td>5.2</td>\n",
       "    </tr>\n",
       "    <tr>\n",
       "      <th>2</th>\n",
       "      <td>fffe33003400380035003900</td>\n",
       "      <td>2008-11-13</td>\n",
       "      <td>Male</td>\n",
       "      <td>Product</td>\n",
       "      <td>Yes</td>\n",
       "      <td>1.0</td>\n",
       "      <td>3.0</td>\n",
       "      <td>5.9</td>\n",
       "    </tr>\n",
       "    <tr>\n",
       "      <th>3</th>\n",
       "      <td>fffe3100370039003200</td>\n",
       "      <td>2008-02-07</td>\n",
       "      <td>Female</td>\n",
       "      <td>Service</td>\n",
       "      <td>No</td>\n",
       "      <td>3.0</td>\n",
       "      <td>6.0</td>\n",
       "      <td>4.6</td>\n",
       "    </tr>\n",
       "    <tr>\n",
       "      <th>4</th>\n",
       "      <td>fffe32003600390036003700</td>\n",
       "      <td>2008-07-17</td>\n",
       "      <td>Female</td>\n",
       "      <td>Product</td>\n",
       "      <td>No</td>\n",
       "      <td>2.0</td>\n",
       "      <td>5.0</td>\n",
       "      <td>6.4</td>\n",
       "    </tr>\n",
       "  </tbody>\n",
       "</table>\n",
       "</div>"
      ],
      "text/plain": [
       "                Employee ID Date of Joining  Gender Company Type  \\\n",
       "0  fffe31003300390039003000      2008-12-10  Female      Service   \n",
       "1  fffe31003300310037003800      2008-08-14  Female      Product   \n",
       "2  fffe33003400380035003900      2008-11-13    Male      Product   \n",
       "3      fffe3100370039003200      2008-02-07  Female      Service   \n",
       "4  fffe32003600390036003700      2008-07-17  Female      Product   \n",
       "\n",
       "  WFH Setup Available  Designation  Resource Allocation  Mental Fatigue Score  \n",
       "0                  No          2.0                  5.0                   7.7  \n",
       "1                 Yes          1.0                  2.0                   5.2  \n",
       "2                 Yes          1.0                  3.0                   5.9  \n",
       "3                  No          3.0                  6.0                   4.6  \n",
       "4                  No          2.0                  5.0                   6.4  "
      ]
     },
     "execution_count": 35,
     "metadata": {},
     "output_type": "execute_result"
    }
   ],
   "source": [
    "test_df.head()\n"
   ]
  },
  {
   "cell_type": "code",
   "execution_count": 36,
   "id": "c45487a3",
   "metadata": {},
   "outputs": [
    {
     "data": {
      "text/plain": [
       "Employee ID                0\n",
       "Date of Joining            0\n",
       "Gender                     0\n",
       "Company Type               0\n",
       "WFH Setup Available        0\n",
       "Designation                0\n",
       "Resource Allocation     1381\n",
       "Mental Fatigue Score    2117\n",
       "Burn Rate               1124\n",
       "dtype: int64"
      ]
     },
     "execution_count": 36,
     "metadata": {},
     "output_type": "execute_result"
    }
   ],
   "source": [
    "df.isna().sum()"
   ]
  },
  {
   "cell_type": "code",
   "execution_count": 37,
   "id": "c5993f3d",
   "metadata": {},
   "outputs": [
    {
     "data": {
      "text/plain": [
       "Employee ID             0\n",
       "Date of Joining         0\n",
       "Gender                  0\n",
       "Company Type            0\n",
       "WFH Setup Available     0\n",
       "Designation             0\n",
       "Resource Allocation     0\n",
       "Mental Fatigue Score    0\n",
       "dtype: int64"
      ]
     },
     "execution_count": 37,
     "metadata": {},
     "output_type": "execute_result"
    }
   ],
   "source": [
    "test_df.isna().sum()\n"
   ]
  },
  {
   "cell_type": "code",
   "execution_count": 38,
   "id": "1bacef8a",
   "metadata": {},
   "outputs": [],
   "source": [
    "## Missing values in training data for 3 columns\n",
    "## Currently drop all rows with any na values\n",
    "df = df.dropna(how='any')"
   ]
  },
  {
   "cell_type": "code",
   "execution_count": 39,
   "id": "f38ecb09",
   "metadata": {},
   "outputs": [
    {
     "data": {
      "text/plain": [
       "Employee ID                     object\n",
       "Date of Joining         datetime64[ns]\n",
       "Gender                          object\n",
       "Company Type                    object\n",
       "WFH Setup Available             object\n",
       "Designation                    float64\n",
       "Resource Allocation            float64\n",
       "Mental Fatigue Score           float64\n",
       "Burn Rate                      float64\n",
       "dtype: object"
      ]
     },
     "execution_count": 39,
     "metadata": {},
     "output_type": "execute_result"
    }
   ],
   "source": [
    "df.dtypes"
   ]
  },
  {
   "cell_type": "code",
   "execution_count": 41,
   "id": "50ebb0c6",
   "metadata": {},
   "outputs": [
    {
     "name": "stderr",
     "output_type": "stream",
     "text": [
      "C:\\Users\\deepi\\anaconda3\\lib\\site-packages\\seaborn\\_decorators.py:36: FutureWarning: Pass the following variable as a keyword arg: x. From version 0.12, the only valid positional argument will be `data`, and passing other arguments without an explicit keyword will result in an error or misinterpretation.\n",
      "  warnings.warn(\n",
      "C:\\Users\\deepi\\anaconda3\\lib\\site-packages\\seaborn\\_decorators.py:36: FutureWarning: Pass the following variable as a keyword arg: x. From version 0.12, the only valid positional argument will be `data`, and passing other arguments without an explicit keyword will result in an error or misinterpretation.\n",
      "  warnings.warn(\n"
     ]
    },
    {
     "data": {
      "text/plain": [
       "Text(0, 0.5, 'Count')"
      ]
     },
     "execution_count": 41,
     "metadata": {},
     "output_type": "execute_result"
    },
    {
     "data": {
      "image/png": "[encoded data removed]",
      "text/plain": [
       "<Figure size 720x360 with 2 Axes>"
      ]
     },
     "metadata": {
      "needs_background": "light"
     },
     "output_type": "display_data"
    }
   ],
   "source": [
    "fig, axs = plt.subplots(1,2, figsize=(10,5))\n",
    "sns.countplot(df['Gender'], ax = axs[0])\n",
    "axs[0].set_title('Training Data')\n",
    "axs[0].set_xlabel('Gender')\n",
    "axs[0].set_ylabel('Count')\n",
    "\n",
    "sns.countplot(test_df['Gender'], ax = axs[1])\n",
    "axs[1].set_title('Testing Data')\n",
    "axs[1].set_xlabel('Gender')\n",
    "axs[1].set_ylabel('Count')"
   ]
  },
  {
   "cell_type": "code",
   "execution_count": 12,
   "id": "db5123ee",
   "metadata": {},
   "outputs": [],
   "source": [
    "## Gender encoding 0 for male and 1 for female\n",
    "df['Gender'] = df['Gender'].apply(lambda x: 0 if x=='Male' else 1)\n",
    "test_df['Gender'] = test_df['Gender'].apply(lambda x: 0 if x=='Male' else 1)"
   ]
  },
  {
   "cell_type": "code",
   "execution_count": 13,
   "id": "ed4bdf01",
   "metadata": {},
   "outputs": [
    {
     "name": "stderr",
     "output_type": "stream",
     "text": [
      "C:\\Users\\deepi\\anaconda3\\lib\\site-packages\\seaborn\\_decorators.py:36: FutureWarning: Pass the following variable as a keyword arg: x. From version 0.12, the only valid positional argument will be `data`, and passing other arguments without an explicit keyword will result in an error or misinterpretation.\n",
      "  warnings.warn(\n",
      "C:\\Users\\deepi\\anaconda3\\lib\\site-packages\\seaborn\\_decorators.py:36: FutureWarning: Pass the following variable as a keyword arg: x. From version 0.12, the only valid positional argument will be `data`, and passing other arguments without an explicit keyword will result in an error or misinterpretation.\n",
      "  warnings.warn(\n"
     ]
    },
    {
     "data": {
      "text/plain": [
       "Text(0, 0.5, 'Count')"
      ]
     },
     "execution_count": 13,
     "metadata": {},
     "output_type": "execute_result"
    },
    {
     "data": {
      "image/png": "[encoded data removed]",
      "text/plain": [
       "<Figure size 720x360 with 2 Axes>"
      ]
     },
     "metadata": {
      "needs_background": "light"
     },
     "output_type": "display_data"
    }
   ],
   "source": [
    "fig, axs = plt.subplots(1,2, figsize=(10,5))\n",
    "sns.countplot(df['Company Type'], ax = axs[0])\n",
    "axs[0].set_title('Training Data')\n",
    "axs[0].set_xlabel('Company Type')\n",
    "axs[0].set_ylabel('Count')\n",
    "\n",
    "sns.countplot(test_df['Company Type'], ax = axs[1])\n",
    "axs[1].set_title('Testing Data')\n",
    "axs[1].set_xlabel('Company Type')\n",
    "axs[1].set_ylabel('Count')"
   ]
  },
  {
   "cell_type": "code",
   "execution_count": 14,
   "id": "0f0436bd",
   "metadata": {},
   "outputs": [],
   "source": [
    "## Company Type is binary categorical\n",
    "\n",
    "df['Company Type'] = df['Company Type'].apply(lambda x: 0 if x == 'Service' else 1)\n",
    "test_df['Company Type'] = test_df['Company Type'].apply(lambda x: 0 if x == 'Service' else 1)\n"
   ]
  },
  {
   "cell_type": "code",
   "execution_count": 16,
   "id": "914a9051",
   "metadata": {},
   "outputs": [
    {
     "name": "stderr",
     "output_type": "stream",
     "text": [
      "C:\\Users\\deepi\\anaconda3\\lib\\site-packages\\seaborn\\_decorators.py:36: FutureWarning: Pass the following variable as a keyword arg: x. From version 0.12, the only valid positional argument will be `data`, and passing other arguments without an explicit keyword will result in an error or misinterpretation.\n",
      "  warnings.warn(\n",
      "C:\\Users\\deepi\\anaconda3\\lib\\site-packages\\seaborn\\_decorators.py:36: FutureWarning: Pass the following variable as a keyword arg: x. From version 0.12, the only valid positional argument will be `data`, and passing other arguments without an explicit keyword will result in an error or misinterpretation.\n",
      "  warnings.warn(\n"
     ]
    },
    {
     "data": {
      "text/plain": [
       "Text(0, 0.5, 'Count')"
      ]
     },
     "execution_count": 16,
     "metadata": {},
     "output_type": "execute_result"
    },
    {
     "data": {
      "image/png": "[encoded data removed]",
      "text/plain": [
       "<Figure size 720x360 with 2 Axes>"
      ]
     },
     "metadata": {
      "needs_background": "light"
     },
     "output_type": "display_data"
    }
   ],
   "source": [
    "fig, axs = plt.subplots(1,2, figsize=(10,5))\n",
    "sns.countplot(df['WFH Setup Available'], ax = axs[0])\n",
    "axs[0].set_title('Training Data')\n",
    "axs[0].set_xlabel('WFH Setup')\n",
    "axs[0].set_ylabel('Count')\n",
    "\n",
    "sns.countplot(test_df['WFH Setup Available'], ax = axs[1])\n",
    "axs[1].set_title('Testing Data')\n",
    "axs[1].set_xlabel('WFH Setup')\n",
    "axs[1].set_ylabel('Count')\n",
    "\n"
   ]
  },
  {
   "cell_type": "code",
   "execution_count": 17,
   "id": "3cd4adc9",
   "metadata": {},
   "outputs": [],
   "source": [
    "## WFH Encoding Binary\n",
    "\n",
    "df['WFH Setup Available'] = df['WFH Setup Available'].apply(lambda x: 0 if x == 'No' else 1)\n",
    "test_df['WFH Setup Available'] = test_df['WFH Setup Available'].apply(lambda x: 0 if x == 'No' else 1)\n"
   ]
  },
  {
   "cell_type": "code",
   "execution_count": 18,
   "id": "d9eca0cc",
   "metadata": {},
   "outputs": [
    {
     "name": "stderr",
     "output_type": "stream",
     "text": [
      "C:\\Users\\deepi\\anaconda3\\lib\\site-packages\\seaborn\\_decorators.py:36: FutureWarning: Pass the following variable as a keyword arg: x. From version 0.12, the only valid positional argument will be `data`, and passing other arguments without an explicit keyword will result in an error or misinterpretation.\n",
      "  warnings.warn(\n"
     ]
    },
    {
     "data": {
      "image/png": "[encoded data removed]",
      "text/plain": [
       "<Figure size 432x288 with 1 Axes>"
      ]
     },
     "metadata": {
      "needs_background": "light"
     },
     "output_type": "display_data"
    }
   ],
   "source": [
    "sns.countplot(df['Designation'], color='green', alpha = 0.8)\n",
    "plt.title('Designation Countplot')\n",
    "\n",
    "\n",
    "## Convert Designations to integers\n",
    "\n",
    "df['Designation'] = df['Designation'].astype('int8')\n",
    "test_df['Designation'] = test_df['Designation'].astype('int8')\n"
   ]
  },
  {
   "cell_type": "code",
   "execution_count": 19,
   "id": "a0ac896b",
   "metadata": {},
   "outputs": [
    {
     "name": "stderr",
     "output_type": "stream",
     "text": [
      "C:\\Users\\deepi\\anaconda3\\lib\\site-packages\\seaborn\\_decorators.py:36: FutureWarning: Pass the following variable as a keyword arg: x. From version 0.12, the only valid positional argument will be `data`, and passing other arguments without an explicit keyword will result in an error or misinterpretation.\n",
      "  warnings.warn(\n"
     ]
    },
    {
     "data": {
      "image/png": "[encoded data removed]",
      "text/plain": [
       "<Figure size 432x288 with 1 Axes>"
      ]
     },
     "metadata": {
      "needs_background": "light"
     },
     "output_type": "display_data"
    }
   ],
   "source": [
    "sns.countplot(df['Resource Allocation'], color='green', alpha = 0.8)\n",
    "plt.title('Resource Allocation Countplot')\n",
    "\n",
    "## Convert Designations to integers\n",
    "\n",
    "df['Resource Allocation'] = df['Resource Allocation'].astype('int8')\n",
    "test_df['Resource Allocation'] = test_df['Resource Allocation'].astype('int8')"
   ]
  },
  {
   "cell_type": "code",
   "execution_count": 20,
   "id": "00c7764b",
   "metadata": {},
   "outputs": [
    {
     "name": "stderr",
     "output_type": "stream",
     "text": [
      "C:\\Users\\deepi\\anaconda3\\lib\\site-packages\\seaborn\\distributions.py:2619: FutureWarning: `distplot` is a deprecated function and will be removed in a future version. Please adapt your code to use either `displot` (a figure-level function with similar flexibility) or `histplot` (an axes-level function for histograms).\n",
      "  warnings.warn(msg, FutureWarning)\n"
     ]
    },
    {
     "data": {
      "text/plain": [
       "count    18590.000000\n",
       "mean         5.732173\n",
       "std          1.920547\n",
       "min          0.000000\n",
       "25%          4.600000\n",
       "50%          5.900000\n",
       "75%          7.100000\n",
       "max         10.000000\n",
       "Name: Mental Fatigue Score, dtype: float64"
      ]
     },
     "execution_count": 20,
     "metadata": {},
     "output_type": "execute_result"
    },
    {
     "data": {
      "image/png": "[encoded data removed]",
      "text/plain": [
       "<Figure size 432x288 with 1 Axes>"
      ]
     },
     "metadata": {
      "needs_background": "light"
     },
     "output_type": "display_data"
    }
   ],
   "source": [
    "sns.distplot(df['Mental Fatigue Score'])\n",
    "df['Mental Fatigue Score'].describe()"
   ]
  },
  {
   "cell_type": "code",
   "execution_count": 21,
   "id": "b5412a55",
   "metadata": {},
   "outputs": [
    {
     "name": "stderr",
     "output_type": "stream",
     "text": [
      "C:\\Users\\deepi\\anaconda3\\lib\\site-packages\\seaborn\\distributions.py:2619: FutureWarning: `distplot` is a deprecated function and will be removed in a future version. Please adapt your code to use either `displot` (a figure-level function with similar flexibility) or `histplot` (an axes-level function for histograms).\n",
      "  warnings.warn(msg, FutureWarning)\n"
     ]
    },
    {
     "data": {
      "text/plain": [
       "count    18590.000000\n",
       "mean         0.452444\n",
       "std          0.197848\n",
       "min          0.000000\n",
       "25%          0.320000\n",
       "50%          0.450000\n",
       "75%          0.590000\n",
       "max          1.000000\n",
       "Name: Burn Rate, dtype: float64"
      ]
     },
     "execution_count": 21,
     "metadata": {},
     "output_type": "execute_result"
    },
    {
     "data": {
      "image/png": "[encoded data removed]",
      "text/plain": [
       "<Figure size 432x288 with 1 Axes>"
      ]
     },
     "metadata": {
      "needs_background": "light"
     },
     "output_type": "display_data"
    }
   ],
   "source": [
    "sns.distplot(df['Burn Rate'])\n",
    "df['Burn Rate'].describe()"
   ]
  },
  {
   "cell_type": "code",
   "execution_count": 22,
   "id": "9eab43f7",
   "metadata": {},
   "outputs": [
    {
     "data": {
      "text/plain": [
       "Timedelta('365 days 00:00:00')"
      ]
     },
     "execution_count": 22,
     "metadata": {},
     "output_type": "execute_result"
    }
   ],
   "source": [
    "## Check range of Date variable\n",
    "df['Date of Joining'].max() - df['Date of Joining'].min() ## Data over timeperiod of 1year"
   ]
  },
  {
   "cell_type": "code",
   "execution_count": 23,
   "id": "45d4dbc6",
   "metadata": {},
   "outputs": [],
   "source": [
    "### Moving 'Date of Joining' start from zero and Min max scale manually\n",
    "\n",
    "df['Date of Joining'] = df['Date of Joining'].apply(lambda x: x- df['Date of Joining'].min())\n",
    "df['Date of Joining'] = df['Date of Joining'].apply(lambda x: x.days)\n",
    "df['Date of Joining'] = df['Date of Joining'].apply(lambda x: x/365)\n",
    "\n",
    "test_df['Date of Joining'] = test_df['Date of Joining'].apply(lambda x: x- test_df['Date of Joining'].min())\n",
    "test_df['Date of Joining'] = test_df['Date of Joining'].apply(lambda x: x.days)\n",
    "test_df['Date of Joining'] = test_df['Date of Joining'].apply(lambda x: x/365)"
   ]
  },
  {
   "cell_type": "code",
   "execution_count": 24,
   "id": "7b7918e9",
   "metadata": {},
   "outputs": [
    {
     "data": {
      "image/png": "[encoded data removed]",
      "text/plain": [
       "<Figure size 720x720 with 2 Axes>"
      ]
     },
     "metadata": {
      "needs_background": "light"
     },
     "output_type": "display_data"
    }
   ],
   "source": [
    "mask = np.triu(np.ones_like(df.corr()))\n",
    "plt.figure(figsize=(10,10))\n",
    "heatmap = sns.heatmap(df.corr(), mask=mask,\n",
    "                      vmin=-1, vmax=1, annot=True, cmap='BrBG')"
   ]
  },
  {
   "cell_type": "code",
   "execution_count": 25,
   "id": "f19ef00e",
   "metadata": {},
   "outputs": [],
   "source": [
    "X = df.drop(['Burn Rate','Employee ID'], axis='columns')\n",
    "y = df['Burn Rate']\n",
    "\n",
    "t = test_df.drop(['Employee ID'], axis='columns')"
   ]
  },
  {
   "cell_type": "code",
   "execution_count": 26,
   "id": "d7f0d7c3",
   "metadata": {},
   "outputs": [
    {
     "data": {
      "text/html": [
       "<div>\n",
       "<style scoped>\n",
       "    .dataframe tbody tr th:only-of-type {\n",
       "        vertical-align: middle;\n",
       "    }\n",
       "\n",
       "    .dataframe tbody tr th {\n",
       "        vertical-align: top;\n",
       "    }\n",
       "\n",
       "    .dataframe thead th {\n",
       "        text-align: right;\n",
       "    }\n",
       "</style>\n",
       "<table border=\"1\" class=\"dataframe\">\n",
       "  <thead>\n",
       "    <tr style=\"text-align: right;\">\n",
       "      <th></th>\n",
       "      <th>Date of Joining</th>\n",
       "      <th>Gender</th>\n",
       "      <th>Company Type</th>\n",
       "      <th>WFH Setup Available</th>\n",
       "      <th>Designation</th>\n",
       "      <th>Resource Allocation</th>\n",
       "      <th>Mental Fatigue Score</th>\n",
       "    </tr>\n",
       "  </thead>\n",
       "  <tbody>\n",
       "    <tr>\n",
       "      <th>0</th>\n",
       "      <td>0.942466</td>\n",
       "      <td>1</td>\n",
       "      <td>0</td>\n",
       "      <td>0</td>\n",
       "      <td>2</td>\n",
       "      <td>5</td>\n",
       "      <td>7.7</td>\n",
       "    </tr>\n",
       "    <tr>\n",
       "      <th>1</th>\n",
       "      <td>0.619178</td>\n",
       "      <td>1</td>\n",
       "      <td>1</td>\n",
       "      <td>1</td>\n",
       "      <td>1</td>\n",
       "      <td>2</td>\n",
       "      <td>5.2</td>\n",
       "    </tr>\n",
       "    <tr>\n",
       "      <th>2</th>\n",
       "      <td>0.868493</td>\n",
       "      <td>0</td>\n",
       "      <td>1</td>\n",
       "      <td>1</td>\n",
       "      <td>1</td>\n",
       "      <td>3</td>\n",
       "      <td>5.9</td>\n",
       "    </tr>\n",
       "    <tr>\n",
       "      <th>3</th>\n",
       "      <td>0.101370</td>\n",
       "      <td>1</td>\n",
       "      <td>0</td>\n",
       "      <td>0</td>\n",
       "      <td>3</td>\n",
       "      <td>6</td>\n",
       "      <td>4.6</td>\n",
       "    </tr>\n",
       "    <tr>\n",
       "      <th>4</th>\n",
       "      <td>0.542466</td>\n",
       "      <td>1</td>\n",
       "      <td>1</td>\n",
       "      <td>0</td>\n",
       "      <td>2</td>\n",
       "      <td>5</td>\n",
       "      <td>6.4</td>\n",
       "    </tr>\n",
       "  </tbody>\n",
       "</table>\n",
       "</div>"
      ],
      "text/plain": [
       "   Date of Joining  Gender  Company Type  WFH Setup Available  Designation  \\\n",
       "0         0.942466       1             0                    0            2   \n",
       "1         0.619178       1             1                    1            1   \n",
       "2         0.868493       0             1                    1            1   \n",
       "3         0.101370       1             0                    0            3   \n",
       "4         0.542466       1             1                    0            2   \n",
       "\n",
       "   Resource Allocation  Mental Fatigue Score  \n",
       "0                    5                   7.7  \n",
       "1                    2                   5.2  \n",
       "2                    3                   5.9  \n",
       "3                    6                   4.6  \n",
       "4                    5                   6.4  "
      ]
     },
     "execution_count": 26,
     "metadata": {},
     "output_type": "execute_result"
    }
   ],
   "source": [
    "t.head()"
   ]
  },
  {
   "cell_type": "code",
   "execution_count": 27,
   "id": "59ca9c8f",
   "metadata": {},
   "outputs": [
    {
     "data": {
      "text/plain": [
       "0.9244848691860754"
      ]
     },
     "execution_count": 27,
     "metadata": {},
     "output_type": "execute_result"
    }
   ],
   "source": [
    "#Model building, training and making predictions\n",
    "\n",
    "pf = PolynomialFeatures(2) ## sklearn class for making polynomial features of input variables\n",
    "X = pf.fit_transform(X.drop('Gender', axis=1))\n",
    "t = pf.transform(t.drop('Gender', axis=1))\n",
    "lr = LinearRegression() ## Model Build\n",
    "lr.fit(X,y)\n",
    "lr.score(X,y)"
   ]
  },
  {
   "cell_type": "code",
   "execution_count": 28,
   "id": "558ed460",
   "metadata": {},
   "outputs": [],
   "source": [
    "predictions = lr.predict(t)"
   ]
  },
  {
   "cell_type": "code",
   "execution_count": 29,
   "id": "4652d325",
   "metadata": {},
   "outputs": [],
   "source": [
    "#Creating a submission file\n",
    "\n",
    "def create_submission(file_name, predictions):\n",
    "    pred = pd.DataFrame(predictions, index=test_df['Employee ID'], columns=['Burn Rate'])\n",
    "    pred.reset_index(inplace=True)\n",
    "    pred.to_csv(file_name + '.csv', index=False)"
   ]
  },
  {
   "cell_type": "code",
   "execution_count": 30,
   "id": "71bab771",
   "metadata": {},
   "outputs": [
    {
     "data": {
      "text/html": [
       "<div>\n",
       "<style scoped>\n",
       "    .dataframe tbody tr th:only-of-type {\n",
       "        vertical-align: middle;\n",
       "    }\n",
       "\n",
       "    .dataframe tbody tr th {\n",
       "        vertical-align: top;\n",
       "    }\n",
       "\n",
       "    .dataframe thead th {\n",
       "        text-align: right;\n",
       "    }\n",
       "</style>\n",
       "<table border=\"1\" class=\"dataframe\">\n",
       "  <thead>\n",
       "    <tr style=\"text-align: right;\">\n",
       "      <th></th>\n",
       "      <th>Employee ID</th>\n",
       "      <th>Burn Rate</th>\n",
       "    </tr>\n",
       "  </thead>\n",
       "  <tbody>\n",
       "    <tr>\n",
       "      <th>0</th>\n",
       "      <td>fffe31003300390039003000</td>\n",
       "      <td>0.616535</td>\n",
       "    </tr>\n",
       "    <tr>\n",
       "      <th>1</th>\n",
       "      <td>fffe31003300310037003800</td>\n",
       "      <td>0.342306</td>\n",
       "    </tr>\n",
       "    <tr>\n",
       "      <th>2</th>\n",
       "      <td>fffe33003400380035003900</td>\n",
       "      <td>0.416882</td>\n",
       "    </tr>\n",
       "    <tr>\n",
       "      <th>3</th>\n",
       "      <td>fffe3100370039003200</td>\n",
       "      <td>0.396986</td>\n",
       "    </tr>\n",
       "    <tr>\n",
       "      <th>4</th>\n",
       "      <td>fffe32003600390036003700</td>\n",
       "      <td>0.513864</td>\n",
       "    </tr>\n",
       "  </tbody>\n",
       "</table>\n",
       "</div>"
      ],
      "text/plain": [
       "                Employee ID  Burn Rate\n",
       "0  fffe31003300390039003000   0.616535\n",
       "1  fffe31003300310037003800   0.342306\n",
       "2  fffe33003400380035003900   0.416882\n",
       "3      fffe3100370039003200   0.396986\n",
       "4  fffe32003600390036003700   0.513864"
      ]
     },
     "execution_count": 30,
     "metadata": {},
     "output_type": "execute_result"
    }
   ],
   "source": [
    "create_submission('PolyRegression deg2', predictions)\n",
    "pd.read_csv('PolyRegression deg2.csv').head()"
   ]
  },
  {
   "cell_type": "code",
   "execution_count": null,
   "id": "7d8eaee3",
   "metadata": {},
   "outputs": [],
   "source": []
  }
 ],
 "metadata": {
  "kernelspec": {
   "display_name": "Python 3 (ipykernel)",
   "language": "python",
   "name": "python3"
  },
  "language_info": {
   "codemirror_mode": {
    "name": "ipython",
    "version": 3
   },
   "file_extension": ".py",
   "mimetype": "text/x-python",
   "name": "python",
   "nbconvert_exporter": "python",
   "pygments_lexer": "ipython3",
   "version": "3.9.12"
  }
 },
 "nbformat": 4,
 "nbformat_minor": 5
}
